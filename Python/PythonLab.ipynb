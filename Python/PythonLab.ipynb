{
 "cells": [
  {
   "cell_type": "markdown",
   "metadata": {},
   "source": [
    "<h1>1. Area and Perimeter of circle</h1>"
   ]
  },
  {
   "cell_type": "code",
   "execution_count": 1,
   "metadata": {},
   "outputs": [
    {
     "name": "stdout",
     "output_type": "stream",
     "text": [
      "Enter radius of circle: 3\n",
      "Area of circle with radius  3  = 28.26\n",
      "Perimeter of circle with radius  3  = 18.84\n"
     ]
    }
   ],
   "source": [
    "radius = int(input(\"Enter radius of circle: \"))\n",
    "area = (3.14)*radius*radius\n",
    "perimeter = 2*3.14*radius\n",
    "print(\"Area of circle with radius \", radius, \" = %.2f\" % area)\n",
    "print(\"Perimeter of circle with radius \", radius, \" = %.2f\" % perimeter)"
   ]
  },
  {
   "cell_type": "markdown",
   "metadata": {},
   "source": [
    "<h1>2. Swap 2 nos</h1>"
   ]
  },
  {
   "cell_type": "code",
   "execution_count": 2,
   "metadata": {
    "scrolled": true
   },
   "outputs": [
    {
     "name": "stdout",
     "output_type": "stream",
     "text": [
      "Enter 2 numbers: 4 5\n",
      "\t\t Before Swapping\n",
      "First number:  4 \n",
      "Second Number:  5\n",
      "\t\t After Swapping\n",
      "First number:  5 \n",
      "Second Number:  4\n"
     ]
    }
   ],
   "source": [
    "a, b = map(int, input(\"Enter 2 numbers: \").split())\n",
    "print(\"\\t\\t Before Swapping\\nFirst number: \", a, \"\\nSecond Number: \", b)\n",
    "a = a+b\n",
    "b = a-b\n",
    "a = a-b\n",
    "print(\"\\t\\t After Swapping\\nFirst number: \", a, \"\\nSecond Number: \", b)"
   ]
  },
  {
   "cell_type": "markdown",
   "metadata": {},
   "source": [
    "<h1>3. Largest of 3 numbers</h1>"
   ]
  },
  {
   "cell_type": "code",
   "execution_count": 3,
   "metadata": {},
   "outputs": [
    {
     "name": "stdout",
     "output_type": "stream",
     "text": [
      "Enter 3 numbers: 5 3 8\n",
      "8  is the greatest.\n"
     ]
    }
   ],
   "source": [
    "a, b, c = map(int, input(\"Enter 3 numbers: \").split())\n",
    "if(a > b and a > c):\n",
    "    print(a, \" is the greatest.\")\n",
    "elif(b > c):\n",
    "    print(b, \" is the greatest.\")\n",
    "elif(c != a or c != b):\n",
    "    print(c, \" is the greatest.\")\n",
    "else:\n",
    "    print(\"Three numbers are the same\")\n"
   ]
  },
  {
   "cell_type": "markdown",
   "metadata": {},
   "source": [
    "<h1>4. Arithmetic operations</h1>"
   ]
  },
  {
   "cell_type": "code",
   "execution_count": 4,
   "metadata": {},
   "outputs": [
    {
     "name": "stdout",
     "output_type": "stream",
     "text": [
      "Enter expression: 6+4\n",
      "Sum=  10\n"
     ]
    }
   ],
   "source": [
    "a= input(\"Enter expression: \")\n",
    "if ('+' in a):\n",
    "    i=a.index('+')\n",
    "    print (\"Sum= \",int(a[0:i])+int(a[i+1:]))\n",
    "if ('-' in a):\n",
    "    i=a.index('-')\n",
    "    print (\"Difference= \",int(a[0:i])-int(a[i+1:]))\n",
    "if ('*' in a):\n",
    "    i=a.index('*')\n",
    "    print (\"Product= \",int(a[0:i])*int(a[i+1:]))\n",
    "if ('/' in a):\n",
    "    i=a.index('/')\n",
    "    print (\"Quotient.Remainder= \",float(a[0:i])/float(a[i+1:]))\n"
   ]
  },
  {
   "cell_type": "markdown",
   "metadata": {},
   "source": [
    "<h1>5. First n multiples of a number</h1>"
   ]
  },
  {
   "cell_type": "code",
   "execution_count": 5,
   "metadata": {},
   "outputs": [
    {
     "name": "stdout",
     "output_type": "stream",
     "text": [
      "Enter a number: 5\n",
      "Enter number of multiples to be calculated: 4\n",
      "5\n",
      "10\n",
      "15\n",
      "20\n"
     ]
    }
   ],
   "source": [
    "num=int(input(\"Enter a number: \"))\n",
    "n=int(input(\"Enter number of multiples to be calculated: \"))\n",
    "for i in range(1,n+1):\n",
    "    print(i*num)"
   ]
  },
  {
   "cell_type": "markdown",
   "metadata": {},
   "source": [
    "<h1>6. Sum of first 100 even numbers</h1>"
   ]
  },
  {
   "cell_type": "code",
   "execution_count": 6,
   "metadata": {},
   "outputs": [
    {
     "name": "stdout",
     "output_type": "stream",
     "text": [
      "Sum of first 100 even numbers=  10100\n"
     ]
    }
   ],
   "source": [
    "sum=0\n",
    "for i in range(2,201,2):\n",
    "    sum=sum+i\n",
    "print(\"Sum of first 100 even numbers= \",sum)"
   ]
  },
  {
   "cell_type": "markdown",
   "metadata": {},
   "source": [
    "<h1>7. Factorial of a number</h1>"
   ]
  },
  {
   "cell_type": "code",
   "execution_count": 7,
   "metadata": {},
   "outputs": [
    {
     "name": "stdout",
     "output_type": "stream",
     "text": [
      "Enter a number: 5\n",
      "Factorial of  5  =  120\n"
     ]
    }
   ],
   "source": [
    "num=int(input(\"Enter a number: \"))\n",
    "fact=1\n",
    "for i in range(1,num+1):\n",
    "    fact*=i\n",
    "print(\"Factorial of \",num,\" = \",fact)"
   ]
  },
  {
   "cell_type": "markdown",
   "metadata": {},
   "source": [
    "<h1>8. Count total number of digits in a number</h1>"
   ]
  },
  {
   "cell_type": "code",
   "execution_count": 8,
   "metadata": {},
   "outputs": [
    {
     "name": "stdout",
     "output_type": "stream",
     "text": [
      "Enter a number: 354\n",
      "354 has  3  digits.\n"
     ]
    }
   ],
   "source": [
    "num=int(input(\"Enter a number: \"))\n",
    "c=0\n",
    "n=num\n",
    "while(num>0):\n",
    "    c+=1\n",
    "    num=num//10\n",
    "print(n,\"has \",c,\" digits.\")"
   ]
  },
  {
   "cell_type": "markdown",
   "metadata": {},
   "source": [
    "<h1>9. No:of words in a sentence</h1>"
   ]
  },
  {
   "cell_type": "code",
   "execution_count": 9,
   "metadata": {},
   "outputs": [
    {
     "name": "stdout",
     "output_type": "stream",
     "text": [
      "Enter a sentence: always be happy\n",
      "No:of words in the sentence =  3\n"
     ]
    }
   ],
   "source": [
    "s=input(\"Enter a sentence: \").split()\n",
    "print(\"No:of words in the sentence = \",len(s))"
   ]
  },
  {
   "cell_type": "markdown",
   "metadata": {},
   "source": [
    "<h1>10-CO1 9</h1>\n",
    "<i>Create a string from given string where first and last characters exchanged.\n",
    "</i>"
   ]
  },
  {
   "cell_type": "code",
   "execution_count": 28,
   "metadata": {},
   "outputs": [
    {
     "name": "stdout",
     "output_type": "stream",
     "text": [
      "Enter a word: suii\n",
      "New word after replacing first and last letters:  iuis\n"
     ]
    }
   ],
   "source": [
    "s=input(\"Enter a word: \")\n",
    "s1=s[-1]+s[1:-1]+s[0]\n",
    "print(\"New word after replacing first and last letters: \",s1)"
   ]
  },
  {
   "cell_type": "markdown",
   "metadata": {},
   "source": [
    "<h1>11- CO1 13</h1>\n",
    "<i>Create a list of colors from comma-separated color names entered by user. Display first and last colors.</i>"
   ]
  },
  {
   "cell_type": "code",
   "execution_count": 31,
   "metadata": {},
   "outputs": [
    {
     "name": "stdout",
     "output_type": "stream",
     "text": [
      "Enter colours: black,red,blue\n",
      "First color:  black\n",
      "Last color:  blue\n"
     ]
    }
   ],
   "source": [
    "colors=input(\"Enter colours: \").split(',')\n",
    "if (len(colors)>1):\n",
    "    print(\"First color: \",colors[0].strip())\n",
    "    print(\"Last color: \",colors[-1].strip())\n",
    "elif (colors[0]==''):\n",
    "    print(\"LIST EMPTY\")\n",
    "else:\n",
    "    print(\"First and last color: \",colors[0].strip())\n"
   ]
  },
  {
   "cell_type": "markdown",
   "metadata": {},
   "source": [
    "<h1>12- CO1 16</h1>\n",
    "<i>Create a single string separated with space from two strings by swapping the character at position 1.</i>"
   ]
  },
  {
   "cell_type": "code",
   "execution_count": 33,
   "metadata": {},
   "outputs": [
    {
     "name": "stdout",
     "output_type": "stream",
     "text": [
      "Enter 2 words: hala madrid\n",
      "New String :  mala hadrid\n"
     ]
    }
   ],
   "source": [
    "words=input(\"Enter 2 words: \").split()\n",
    "s=words[1][0]+words[0][1:]+\" \"+words[0][0]+words[1][1:]\n",
    "print(\"New String : \",s)"
   ]
  },
  {
   "cell_type": "markdown",
   "metadata": {},
   "source": [
    "<h1>13- CO1 17</h1>\n",
    "<i>Sort dictionary in ascending and descending order. </i>"
   ]
  },
  {
   "cell_type": "code",
   "execution_count": 34,
   "metadata": {},
   "outputs": [
    {
     "name": "stdout",
     "output_type": "stream",
     "text": [
      "Enter keys for dictionary: 4 2 1 3\n",
      "Enter values for dictionary: d b a c\n",
      "Original Dictionry:  {'4': 'd', '2': 'b', '1': 'a', '3': 'c'}\n",
      "Dict in ascending order:  {'1': 'a', '2': 'b', '3': 'c', '4': 'd'}\n",
      "Dict in descending order:  {'4': 'd', '3': 'c', '2': 'b', '1': 'a'}\n"
     ]
    }
   ],
   "source": [
    "keys=input(\"Enter keys for dictionary: \").split()\n",
    "values=input(\"Enter values for dictionary: \").split()\n",
    "s = dict(zip(keys,values))\n",
    "keys.sort()\n",
    "ascending_s={i:s[i] for i in keys}\n",
    "keys.reverse()\n",
    "descending_s={i:s[i] for i in keys}\n",
    "print(\"Original Dictionry: \", s)\n",
    "print(\"Dict in ascending order: \", ascending_s)\n",
    "print(\"Dict in descending order: \", descending_s)"
   ]
  },
  {
   "cell_type": "markdown",
   "metadata": {},
   "source": [
    "<h1>14- CO1 18</h1>\n",
    "<i>Merge two dictionaries.</i>"
   ]
  },
  {
   "cell_type": "code",
   "execution_count": 35,
   "metadata": {},
   "outputs": [
    {
     "name": "stdout",
     "output_type": "stream",
     "text": [
      "Enter keys of dictionary 1: 1 2 3\n",
      "Enter values of dictionary 1: a b c\n",
      "Dictionary 1:  {'1': 'a', '2': 'b', '3': 'c'}\n",
      "Enter keys of dictionary 2: 4 5 6\n",
      "Enter values of dictionary 2: d e f\n",
      "Dictionary 2:  {'4': 'd', '5': 'e', '6': 'f'}\n",
      "Merged Dictionary:  {'1': 'a', '2': 'b', '3': 'c', '4': 'd', '5': 'e', '6': 'f'}\n"
     ]
    }
   ],
   "source": [
    "keys=input(\"Enter keys of dictionary 1: \").split()\n",
    "values=input(\"Enter values of dictionary 1: \").split()\n",
    "s={}\n",
    "j=0\n",
    "for i in keys:\n",
    "    s[i]=values[j]\n",
    "    j+=1\n",
    "print(\"Dictionary 1: \",s)\n",
    "keys1=input(\"Enter keys of dictionary 2: \").split()\n",
    "values1=input(\"Enter values of dictionary 2: \").split()\n",
    "s1={}\n",
    "j=0\n",
    "for i in keys1:\n",
    "    s1[i]=values1[j]\n",
    "    j+=1\n",
    "print(\"Dictionary 2: \",s1)\n",
    "s.update(s1)\n",
    "print(\"Merged Dictionary: \",s)"
   ]
  },
  {
   "cell_type": "markdown",
   "metadata": {},
   "source": [
    "<h1>15- CO1 19</h1>\n",
    "<i>Find gcd of 2 numbers</i>"
   ]
  },
  {
   "cell_type": "code",
   "execution_count": 57,
   "metadata": {},
   "outputs": [
    {
     "name": "stdout",
     "output_type": "stream",
     "text": [
      "Enter 2 numbers: 12378 3054\n",
      "GCD of  12378  and  3054  =  6\n"
     ]
    }
   ],
   "source": [
    "a, b = map(int, input(\"Enter 2 numbers: \").split())\n",
    "c,d=a,b\n",
    "while(b):\n",
    "    a,b=b,a%b\n",
    "print(\"GCD of \",c,\" and \",d,\" = \",a)"
   ]
  },
  {
   "cell_type": "markdown",
   "metadata": {},
   "source": [
    "<h1>16- CO1 20</h1>\n",
    "<i>From a list of integers, create a list removing even numbers. </i>"
   ]
  },
  {
   "cell_type": "code",
   "execution_count": 60,
   "metadata": {},
   "outputs": [
    {
     "name": "stdout",
     "output_type": "stream",
     "text": [
      "Enter numbers to list: 1 2 4 5 6 7\n",
      "original List:  [1, 2, 4, 5, 6, 7]\n",
      "List after removing even numbers:  [1, 5, 7]\n"
     ]
    }
   ],
   "source": [
    "a=list(map(int,input(\"Enter numbers to list: \").split()))\n",
    "print (\"original List: \",a)\n",
    "b=[i for i in a if i%2!=0]\n",
    "print (\"List after removing even numbers: \",b)"
   ]
  },
  {
   "cell_type": "markdown",
   "metadata": {},
   "source": [
    "<h1>17- CO2 1</h1>\n",
    "<i>Factorial of a number</i>"
   ]
  },
  {
   "cell_type": "code",
   "execution_count": 36,
   "metadata": {},
   "outputs": [
    {
     "name": "stdout",
     "output_type": "stream",
     "text": [
      "Enter a number: 4\n",
      "Factorial of  4  =  24\n"
     ]
    }
   ],
   "source": [
    "def fact(n):\n",
    "    if(n==0):\n",
    "        return 1\n",
    "    else: \n",
    "        return n*fact(n-1)\n",
    "\n",
    "n=int(input(\"Enter a number: \"))\n",
    "print(\"Factorial of \",n,\" = \",fact(n))"
   ]
  },
  {
   "cell_type": "markdown",
   "metadata": {},
   "source": [
    "<h1>18- CO2 2</h1>\n",
    "<i>Fibonacci series of N terms</i>"
   ]
  },
  {
   "cell_type": "code",
   "execution_count": 37,
   "metadata": {},
   "outputs": [
    {
     "name": "stdout",
     "output_type": "stream",
     "text": [
      "Enter Limit: 5\n",
      "Fibonacci Series:\n",
      "0\n",
      "1\n",
      "1\n",
      "2\n",
      "3\n"
     ]
    }
   ],
   "source": [
    "def fib(a,b,n,i):\n",
    "    if(i>n):\n",
    "        return\n",
    "    else:\n",
    "        c=a+b\n",
    "        print(c)\n",
    "        fib(b,c,n,(i+1))\n",
    "\n",
    "n=int(input(\"Enter Limit: \"))\n",
    "print(\"Fibonacci Series:\")\n",
    "if(n==1):\n",
    "    print(0)\n",
    "else:\n",
    "    print(0)\n",
    "    print(1)\n",
    "    fib(0,1,n-2,1)"
   ]
  },
  {
   "cell_type": "markdown",
   "metadata": {},
   "source": [
    "<h1>19- CO2 6</h1>\n",
    "<i>Count the number of characters (character frequency) in a string</i>"
   ]
  },
  {
   "cell_type": "code",
   "execution_count": 65,
   "metadata": {},
   "outputs": [
    {
     "name": "stdout",
     "output_type": "stream",
     "text": [
      "Enter a word: occurrences\n",
      "Character\tNo:of occurrences\n",
      "o \t\t\t 1\n",
      "c \t\t\t 3\n",
      "u \t\t\t 1\n",
      "r \t\t\t 2\n",
      "e \t\t\t 2\n",
      "n \t\t\t 1\n",
      "s \t\t\t 1\n"
     ]
    }
   ],
   "source": [
    "s=input(\"Enter a word: \")\n",
    "c={}\n",
    "for i in s:\n",
    "    if i in c:\n",
    "        c[i]+=1\n",
    "    else:\n",
    "        c[i]=1\n",
    "print(\"Character\\tNo:of occurrences\")\n",
    "for i in c:\n",
    "    print(i,\"\\t\\t\\t\",c[i])"
   ]
  },
  {
   "cell_type": "markdown",
   "metadata": {},
   "source": [
    "<h1>20- CO2 7</h1>\n",
    "<i>Add ‘ing’ at the end of a given string. If it already ends with ‘ing’, then add ‘ly’</i>"
   ]
  },
  {
   "cell_type": "code",
   "execution_count": 75,
   "metadata": {},
   "outputs": [
    {
     "name": "stdout",
     "output_type": "stream",
     "text": [
      "Enter a word: hello\n",
      "Original word:  hello\n",
      "Word after adding suffix:  helloing\n"
     ]
    }
   ],
   "source": [
    "s=input(\"Enter a word: \")\n",
    "print(\"Original word: \",s)\n",
    "if s.endswith('ing'):\n",
    "    s+='ly'\n",
    "else:\n",
    "    s+='ing'\n",
    "print(\"Word after adding suffix: \",s)"
   ]
  },
  {
   "cell_type": "markdown",
   "metadata": {},
   "source": [
    "<h1>21- CO2 9</h1>\n",
    "<i>Construct following pattern using nested loop<br>\n",
    "*<br>\n",
    "* *<br>\n",
    "* * *<br>\n",
    "* * * *<br>\n",
    "* * * * *<br>\n",
    "* * * *<br>\n",
    "* * *<br>\n",
    "* *<br>\n",
    "*</i>"
   ]
  },
  {
   "cell_type": "code",
   "execution_count": 81,
   "metadata": {},
   "outputs": [
    {
     "name": "stdout",
     "output_type": "stream",
     "text": [
      "* \n",
      "* * \n",
      "* * * \n",
      "* * * * \n",
      "* * * * * \n",
      "* * * * * * \n",
      "* * * * * \n",
      "* * * * \n",
      "* * * \n",
      "* * \n",
      "* \n"
     ]
    }
   ],
   "source": [
    "for i in range(0,5):\n",
    "    for j in range(0,i+1):\n",
    "        print(\"* \",end=\"\")\n",
    "    print()\n",
    "for i in range(5,-1,-1):\n",
    "    for j in range(0,i+1):\n",
    "        print(\"* \",end=\"\")\n",
    "    print()    "
   ]
  },
  {
   "cell_type": "markdown",
   "metadata": {},
   "source": [
    "<h1>22- CO3 2</h1>\n",
    "<i>Create a package graphics with modules rectangle, circle and sub-package 3D-graphics with\n",
    "modules cuboid and sphere. Include methods to find area and perimeter of respective figures\n",
    "in each module. Write programs that finds area and perimeter of figures by different importing\n",
    "statements. (Include selective import of modules and import * statements)</i>"
   ]
  },
  {
   "cell_type": "code",
   "execution_count": 42,
   "metadata": {
    "scrolled": true
   },
   "outputs": [
    {
     "name": "stdout",
     "output_type": "stream",
     "text": [
      "Enter length of rectangle: 4\n",
      "Enter width of rectangle: 3\n",
      "Area of rectangle =  12\n",
      "Perimeter of rectangle =  14\n",
      "\n",
      "\n",
      "Enter radius of circle: 2\n",
      "Area of circle =  12.56\n",
      "Circumference of circle =  12.56\n",
      "\n",
      "\n",
      "Enter length of cuboid: 4\n",
      "Enter width of cuboid: 5\n",
      "Enter height of cuboid: 6\n",
      "Area of cuboid =  28800\n",
      "Perimeter of cuboid =  60\n",
      "\n",
      "\n",
      "Enter radius of sphere: 4\n",
      "Area of sphere =  200.96\n",
      "Circumference of sphere =  25.12\n"
     ]
    }
   ],
   "source": [
    "from graphics import rectangle\n",
    "from graphics.circle import *\n",
    "from graphics.graphics3d.cuboid import area as a, peri as p\n",
    "from graphics.graphics3d import sphere\n",
    "l=int(input(\"Enter length of rectangle: \"))\n",
    "b=int(input(\"Enter width of rectangle: \"))\n",
    "rectangle.area(l,b)\n",
    "rectangle.peri(l,b)\n",
    "print(\"\\n\")\n",
    "r=int(input(\"Enter radius of circle: \"))\n",
    "area(r)\n",
    "peri(r)\n",
    "print(\"\\n\")\n",
    "l=int(input(\"Enter length of cuboid: \"))\n",
    "b=int(input(\"Enter width of cuboid: \"))\n",
    "h=int(input(\"Enter height of cuboid: \"))\n",
    "a(l,b,h)\n",
    "p(l,b,h)\n",
    "print(\"\\n\")\n",
    "r=int(input(\"Enter radius of sphere: \"))\n",
    "sphere.area(r)\n",
    "sphere.peri(r)"
   ]
  },
  {
   "cell_type": "markdown",
   "metadata": {},
   "source": [
    "<h1>23- CO4 2</h1>\n",
    "<i>Create a Bank account with members account number, name, type of account and balance.  \n",
    "Write constructor and methods to deposit at the bank and withdraw an amount from the bank.\n",
    "</i>"
   ]
  },
  {
   "cell_type": "code",
   "execution_count": 43,
   "metadata": {},
   "outputs": [
    {
     "name": "stdout",
     "output_type": "stream",
     "text": [
      "Enter account number: 1001\n",
      "Enter name: Abc\n",
      "Enter account type: xyz\n",
      "----------------\n",
      "1: Account Details\n",
      "2:Withdraw\n",
      "3:Deposit\n",
      "4:Exit\n",
      "----------------\n",
      "Enter your choice: 1\n",
      "Account Number:  1001\n",
      "Account Name:  Abc\n",
      "Account Type:  xyz\n",
      "Balance Amount:  0\n",
      "----------------\n",
      "1: Account Details\n",
      "2:Withdraw\n",
      "3:Deposit\n",
      "4:Exit\n",
      "----------------\n",
      "Enter your choice: 2\n",
      "Enter amount to withdraw: 100\n",
      "Insufficient amount!!! Cannot withdraw!!!\n",
      "----------------\n",
      "1: Account Details\n",
      "2:Withdraw\n",
      "3:Deposit\n",
      "4:Exit\n",
      "----------------\n",
      "Enter your choice: 3\n",
      "Enter amount to deposit: 400\n",
      "400  Deposited!!!\n",
      "Balance =  400\n",
      "----------------\n",
      "1: Account Details\n",
      "2:Withdraw\n",
      "3:Deposit\n",
      "4:Exit\n",
      "----------------\n",
      "Enter your choice: 2\n",
      "Enter amount to withdraw: 100\n",
      "100  Withdrawn!!!\n",
      "Balance =  300\n",
      "----------------\n",
      "1: Account Details\n",
      "2:Withdraw\n",
      "3:Deposit\n",
      "4:Exit\n",
      "----------------\n",
      "Enter your choice: 4\n"
     ]
    }
   ],
   "source": [
    "class Bank:\n",
    "    def __init__(self,n,name,type):\n",
    "        self.number=n\n",
    "        self.name=name\n",
    "        self.type=type\n",
    "        self.balance=0\n",
    "    \n",
    "    def deposit(self,amount):\n",
    "        self.balance+=amount\n",
    "        print(amount,\" Deposited!!!\\nBalance = \",self.balance)\n",
    "    \n",
    "    def withdraw(self,amount):\n",
    "        if(amount>self.balance):\n",
    "            print(\"Insufficient amount!!! Cannot withdraw!!!\")\n",
    "        else:\n",
    "            self.balance-=amount\n",
    "            print(amount,\" Withdrawn!!!\\nBalance = \",self.balance)\n",
    "\n",
    "    def details(self):\n",
    "        print(\"Account Number: \",self.number)\n",
    "        print(\"Account Name: \",self.name)\n",
    "        print(\"Account Type: \",self.type)\n",
    "        print(\"Balance Amount: \",self.balance)\n",
    "\n",
    "n=int(input(\"Enter account number: \"))\n",
    "name=input(\"Enter name: \")\n",
    "type=input(\"Enter account type: \")\n",
    "b=Bank(n,name,type)\n",
    "ch=1\n",
    "while(ch<4):\n",
    "    ch=int(input(\"----------------\\n1: Account Details\\n2:Withdraw\\n3:Deposit\\n4:Exit\\n----------------\\nEnter your choice: \"))\n",
    "    if(ch==1):\n",
    "        b.details()\n",
    "    elif(ch==2):\n",
    "        b.withdraw(int(input(\"Enter amount to withdraw: \")))\n",
    "    elif(ch==3):\n",
    "        b.deposit(int(input(\"Enter amount to deposit: \")))\n"
   ]
  },
  {
   "cell_type": "markdown",
   "metadata": {},
   "source": [
    "<h1>24- CO4 4</h1>\n",
    "<i>Create a class Time with private attributes hour, minute and second. Overload ‘+’ operator to find sum of 2 time.\n",
    "</i>"
   ]
  },
  {
   "cell_type": "code",
   "execution_count": 12,
   "metadata": {},
   "outputs": [
    {
     "name": "stdout",
     "output_type": "stream",
     "text": [
      "Enter Time 1 in (hh:mm:ss): 5:59:57\n",
      "Enter Time 2 in (hh:mm:ss): 0:0:3\n",
      "Time 1 + Time 2:\n",
      "Time:  6 : 0 : 0\n"
     ]
    }
   ],
   "source": [
    "class Time:\n",
    "    def __init__(self,h,m,s):\n",
    "        self.__hour=h\n",
    "        self.__min=m\n",
    "        self.__sec=s\n",
    "    def __add__(self,a):\n",
    "        c=Time(0,0,0)\n",
    "        c.__hour=self.__hour+a.__hour\n",
    "        c.__min=self.__min+a.__min\n",
    "        c.__sec=self.__sec+a.__sec\n",
    "        if(c.__sec>=60):\n",
    "            c.__sec-=60\n",
    "            c.__min+=1\n",
    "        if(c.__min>=60):\n",
    "            c.__min-=60\n",
    "            c.__hour+=1\n",
    "        return c\n",
    "    def display(self):\n",
    "        print(\"Time: \",self.__hour,\":\",self.__min,\":\",self.__sec)\n",
    "x,y,z=map(int,input(\"Enter Time 1 in (hh:mm:ss): \").split(\":\"))    \n",
    "a=Time(x,y,z)\n",
    "x,y,z=map(int,input(\"Enter Time 2 in (hh:mm:ss): \").split(\":\"))    \n",
    "b=Time(x,y,z)\n",
    "print(\"Time 1 + Time 2:\")\n",
    "Time.display(a+b)"
   ]
  },
  {
   "cell_type": "markdown",
   "metadata": {},
   "source": [
    "<h1>25- CO4 5</h1>\n",
    "<i>Create a class Publisher (name). Derive class Book from Publisher with attributes title  and author. Derive class Python from Book with attributes price and no_of_pages. Write  a program that displays information about a Python book. Use base class constructor invocation and method overriding\n",
    "</i>"
   ]
  },
  {
   "cell_type": "code",
   "execution_count": 16,
   "metadata": {},
   "outputs": [
    {
     "name": "stdout",
     "output_type": "stream",
     "text": [
      "Publisher Name:  ABC\n",
      "Book Title:  Python Programming\n",
      "Book Author:  Me\n",
      "Book Price:  200\n",
      "Number of pages:  10\n"
     ]
    }
   ],
   "source": [
    "class Publisher:\n",
    "    def __init__(self, n):\n",
    "        self.name = n\n",
    "\n",
    "    def display(self):\n",
    "        print(\"Publisher Name: \", self.name)\n",
    "\n",
    "class Book(Publisher):\n",
    "    def __init__(self, n, t, a):\n",
    "        super().__init__(n)\n",
    "        self.title = t\n",
    "        self.author = a\n",
    "\n",
    "    def display(self):\n",
    "        super().display()\n",
    "        print(\"Book Title: \", self.title)\n",
    "        print(\"Book Author: \", self.author)\n",
    "\n",
    "class Python(Book):\n",
    "    def __init__(self, n, t, a, p, np):\n",
    "        super().__init__(n, t, a)\n",
    "        self.price = p\n",
    "        self.no_page = np\n",
    "\n",
    "    def display(self):\n",
    "        super().display()\n",
    "        print(\"Book Price: \", self.price)\n",
    "        print(\"Number of pages: \", self.no_page)\n",
    "\n",
    "python_book = Python(n=\"ABC\", t=\"Python Programming\", a=\"Me\", p=200, np=10)\n",
    "python_book.display()"
   ]
  },
  {
   "cell_type": "markdown",
   "metadata": {},
   "source": [
    "<h1>26- CO5 2</h1>\n",
    "<i>Python program to copy odd lines of one file to other\n",
    "</i>"
   ]
  },
  {
   "cell_type": "code",
   "execution_count": 20,
   "metadata": {},
   "outputs": [
    {
     "name": "stdout",
     "output_type": "stream",
     "text": [
      "Original file:\n",
      "Abc\n",
      "def\n",
      "ghi\n",
      "jkl\n",
      "mno\n",
      "\n",
      "New file:\n",
      "def\n",
      "jkl\n"
     ]
    }
   ],
   "source": [
    "f = open('files.txt', 'r')\n",
    "nf = open('newfile.txt', 'w')\n",
    "lines = f.readlines()\n",
    "print(\"Original file:\")\n",
    "for i in range(0, len(lines)):\n",
    "    print(lines[i],end=\"\")\n",
    "    if i % 2 != 0:\n",
    "        nf.write(lines[i])\n",
    "\n",
    "nf.close()\n",
    "f.close()\n",
    "f=open('newfile.txt','r')\n",
    "lines=f.readlines()\n",
    "print(\"\\n\\nNew file:\")\n",
    "for i in lines:\n",
    "    print(i,end=\"\")"
   ]
  },
  {
   "cell_type": "markdown",
   "metadata": {},
   "source": [
    "<h1>27- CO5 3</h1>\n",
    "<i>Write a Python program to read each row from a given csv file and print a list of strings.\n",
    "</i>"
   ]
  },
  {
   "cell_type": "code",
   "execution_count": 21,
   "metadata": {},
   "outputs": [
    {
     "name": "stdout",
     "output_type": "stream",
     "text": [
      "List of string:  ['Name', 'Age', 'abc', '1', 'def', '2', 'ghi', '3']\n"
     ]
    }
   ],
   "source": [
    "import csv\n",
    "f=open('test.csv','r',encoding='utf-8-sig')\n",
    "r=csv.reader(f)\n",
    "s=[]\n",
    "for i in r:\n",
    "    for j in i:\n",
    "        s.append(j)\n",
    "print(\"List of string: \",s)"
   ]
  },
  {
   "cell_type": "markdown",
   "metadata": {},
   "source": [
    "<h1>28- CO5 4</h1>\n",
    "<i>Write a Python program to read specific columns of a given CSV file and print the content of the columns.\n",
    "</i>"
   ]
  },
  {
   "cell_type": "code",
   "execution_count": 29,
   "metadata": {},
   "outputs": [
    {
     "name": "stdout",
     "output_type": "stream",
     "text": [
      "Table:  [{'Name': 'abc', 'Age': '1'}, {'Name': 'def', 'Age': '2'}, {'Name': 'ghi', 'Age': '3'}]\n",
      "Age:  ['1', '2', '3']\n"
     ]
    }
   ],
   "source": [
    "import csv\n",
    "f=open('test.csv','r',encoding='utf-8-sig')\n",
    "r=csv.DictReader(f)\n",
    "s=[]\n",
    "age=[]\n",
    "for i in r:\n",
    "    s.append(i)\n",
    "    age.append(i['Age'])\n",
    "print(\"Table: \",s)\n",
    "print(\"Age: \",age)"
   ]
  },
  {
   "cell_type": "markdown",
   "metadata": {},
   "source": [
    "<h1>29- CO5 5</h1>\n",
    "<i>Write a Python program to write a Python dictionary to a csv file. After writing the CSV file read the CSV file and display the content.\n",
    "</i>"
   ]
  },
  {
   "cell_type": "code",
   "execution_count": 30,
   "metadata": {},
   "outputs": [
    {
     "name": "stdout",
     "output_type": "stream",
     "text": [
      "Enter name: abc\n",
      "Enter age: 1\n",
      "Enter name: def\n",
      "Enter age: 2\n",
      "Enter name: ghi\n",
      "Enter age: 3\n",
      "\n",
      "Data: \n",
      "['Name', 'Age']\n",
      "['abc', '1']\n",
      "['def', '2']\n",
      "['ghi', '3']\n"
     ]
    }
   ],
   "source": [
    "import csv\n",
    "l=[]\n",
    "for i in range(3):\n",
    "    d = {}\n",
    "    d['Name']=input(\"Enter name: \")\n",
    "    d['Age']=input(\"Enter age: \")\n",
    "    l.append(d)\n",
    "\n",
    "field_names = ['Name', 'Age']\n",
    "\n",
    "with open('test1.csv', 'w', newline='', encoding='utf-8-sig')as f:\n",
    "    w = csv.DictWriter(f, fieldnames=field_names)\n",
    "    w.writeheader()\n",
    "    w.writerows(l)\n",
    "\n",
    "\n",
    "f1=open('test1.csv','r',encoding='utf-8-sig')\n",
    "r=csv.reader(f1)\n",
    "s=[]\n",
    "print(\"\\nData: \")\n",
    "for i in r:\n",
    "    print(i)\n",
    "\n",
    "f1.close()"
   ]
  },
  {
   "cell_type": "code",
   "execution_count": null,
   "metadata": {},
   "outputs": [],
   "source": []
  }
 ],
 "metadata": {
  "kernelspec": {
   "display_name": "Python 3 (ipykernel)",
   "language": "python",
   "name": "python3"
  },
  "language_info": {
   "codemirror_mode": {
    "name": "ipython",
    "version": 3
   },
   "file_extension": ".py",
   "mimetype": "text/x-python",
   "name": "python",
   "nbconvert_exporter": "python",
   "pygments_lexer": "ipython3",
   "version": "3.9.13"
  }
 },
 "nbformat": 4,
 "nbformat_minor": 2
}
