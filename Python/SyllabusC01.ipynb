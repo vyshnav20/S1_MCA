{
 "cells": [
  {
   "cell_type": "markdown",
   "metadata": {},
   "source": [
    "6. Occurence of 'a' in a list"
   ]
  },
  {
   "cell_type": "code",
   "execution_count": 3,
   "metadata": {},
   "outputs": [
    {
     "name": "stdout",
     "output_type": "stream",
     "text": [
      "The alphabet 'a' occurs  3  times.\n"
     ]
    }
   ],
   "source": [
    "char=input(\"Enter a letters to a list: \").split()\n",
    "print(\"The alphabet 'a' occurs \",(char.count('a')+char.count('A')),\" times.\")"
   ]
  },
  {
   "cell_type": "markdown",
   "metadata": {},
   "source": [
    "7. Check if 2 list have same sums"
   ]
  },
  {
   "cell_type": "code",
   "execution_count": 1,
   "metadata": {},
   "outputs": [
    {
     "name": "stdout",
     "output_type": "stream",
     "text": [
      "Sum of 2 list are same:  6\n"
     ]
    }
   ],
   "source": [
    "a = list(map(int,input(\"\\nEnter values for list 1: \").strip().split()))\n",
    "b = list(map(int,input(\"\\nEnter values for list 2: \").strip().split()))\n",
    "if(sum(a)==sum(b)):\n",
    "    print(\"Sum of 2 list are same: \",sum(a))\n",
    "else:\n",
    "    print(\"Sum of first list = \",sum(a),\"\\nSum of second list = \", sum(b))"
   ]
  },
  {
   "cell_type": "markdown",
   "metadata": {},
   "source": [
    "Common values in both list"
   ]
  },
  {
   "cell_type": "code",
   "execution_count": 5,
   "metadata": {},
   "outputs": [
    {
     "name": "stdout",
     "output_type": "stream",
     "text": [
      "Common elements: \n",
      "[2]\n"
     ]
    }
   ],
   "source": [
    "a = list(map(int,input(\"\\nEnter values for list 1: \").strip().split()))\n",
    "b = list(map(int,input(\"\\nEnter values for list 2: \").strip().split()))\n",
    "c=[]\n",
    "for i in a:\n",
    "    for j in b:\n",
    "        if(i==j):\n",
    "            c.append(i)\n",
    "print(\"Common elements: \")\n",
    "if(len(c)==0):\n",
    "    print(\"None\")\n",
    "else:\n",
    "    print(c)\n",
    "   "
   ]
  },
  {
   "cell_type": "markdown",
   "metadata": {},
   "source": [
    "List of same length"
   ]
  },
  {
   "cell_type": "code",
   "execution_count": 2,
   "metadata": {},
   "outputs": [
    {
     "name": "stdout",
     "output_type": "stream",
     "text": [
      "2 list are of same size:  3\n"
     ]
    }
   ],
   "source": [
    "a = list(map(int,input(\"\\nEnter values for list 1: \").strip().split()))\n",
    "b = list(map(int,input(\"\\nEnter values for list 2: \").strip().split()))\n",
    "if(len(a)==len(b)):\n",
    "    print(\"2 list are of same size: \",len(a))\n",
    "else:\n",
    "    print(\"Length of first list = \",len(a),\"\\nLenght of second list = \", len(b))"
   ]
  },
  {
   "cell_type": "markdown",
   "metadata": {},
   "source": []
  },
  {
   "cell_type": "markdown",
   "metadata": {},
   "source": [
    "8. replace first character of string with $ except the first letter"
   ]
  },
  {
   "cell_type": "code",
   "execution_count": 12,
   "metadata": {},
   "outputs": [
    {
     "name": "stdout",
     "output_type": "stream",
     "text": [
      "The first charater ' a ' is replaced with '$' for all other occurence.\n",
      " New word:  ahu$j \n"
     ]
    }
   ],
   "source": [
    "s=input(\"Enter a word: \")\n",
    "s1=s[0]\n",
    "for i in range(1,len(s)):\n",
    "    if s[i]==s[0]:\n",
    "        s1+='$'\n",
    "    else:\n",
    "        s1+=s[i]\n",
    "print(\"The first charater '\",s[0],\"' is replaced with '$' for all other occurence.\\nNew word: \",s1)"
   ]
  },
  {
   "cell_type": "markdown",
   "metadata": {},
   "source": [
    "9. swap first and last character of a string"
   ]
  },
  {
   "cell_type": "code",
   "execution_count": 14,
   "metadata": {},
   "outputs": [
    {
     "name": "stdout",
     "output_type": "stream",
     "text": [
      "New word after replacing first and last letters:  oellh\n"
     ]
    }
   ],
   "source": [
    "s=input(\"Enter a word: \")\n",
    "s1=s[-1]+s[1:-1]+s[0]\n",
    "print(\"New word after replacing first and last letters: \",s1)"
   ]
  },
  {
   "cell_type": "markdown",
   "metadata": {},
   "source": [
    "12. print file extension of a file"
   ]
  },
  {
   "cell_type": "code",
   "execution_count": 17,
   "metadata": {},
   "outputs": [
    {
     "name": "stdout",
     "output_type": "stream",
     "text": [
      "File Extension:  .txt\n"
     ]
    }
   ],
   "source": [
    "f=input(\"Enter file name: \")\n",
    "print(\"File Extension: \",f[f.rfind('.'):])"
   ]
  },
  {
   "cell_type": "markdown",
   "metadata": {},
   "source": [
    "13. Input colours as comma-seperated and display first and last"
   ]
  },
  {
   "cell_type": "code",
   "execution_count": 11,
   "metadata": {},
   "outputs": [
    {
     "name": "stdout",
     "output_type": "stream",
     "text": [
      "First color:  red\n",
      "Last color:  blue\n"
     ]
    }
   ],
   "source": [
    "colors=input(\"Enter colours: \").split(',')\n",
    "if (len(colors)>1):\n",
    "    print(\"First color: \",colors[0].strip())\n",
    "    print(\"Last color: \",colors[-1].strip())\n",
    "elif (colors[0]==''):\n",
    "    print(\"LIST EMPTY\")\n",
    "else:\n",
    "    print(\"First and last color: \",colors[0].strip())\n"
   ]
  },
  {
   "cell_type": "markdown",
   "metadata": {},
   "source": [
    "14. compute n+nn+nnn"
   ]
  },
  {
   "cell_type": "code",
   "execution_count": 13,
   "metadata": {},
   "outputs": [
    {
     "name": "stdout",
     "output_type": "stream",
     "text": [
      "Sum of series n+nn+nnn+..... =  492\n"
     ]
    }
   ],
   "source": [
    "n=input(\"Enter value for n: \")\n",
    "l=int(input(\"Enter limit: \"))\n",
    "s=''\n",
    "sum=0\n",
    "for i in range(1,l+1):\n",
    "    s+=(n)\n",
    "    sum+=int(s)\n",
    "print (\"Sum of series n+nn+nnn+..... = \",sum)"
   ]
  },
  {
   "cell_type": "markdown",
   "metadata": {},
   "source": [
    "15. Print difference of 2 list"
   ]
  },
  {
   "cell_type": "code",
   "execution_count": 7,
   "metadata": {},
   "outputs": [
    {
     "name": "stdout",
     "output_type": "stream",
     "text": [
      "List 1:  ['red', 'green', 'blue']\n",
      "List 2:  ['blue']\n",
      "Colours in list 1 not present in list 2: red  green  "
     ]
    }
   ],
   "source": [
    "l1= input(\"Enter colours to list 1: \").split()\n",
    "l2= input(\"Enter colours to list 2: \").split()\n",
    "print(\"List 1: \",l1 )\n",
    "print(\"List 2: \",l2 )\n",
    "print(\"Colours in list 1 not present in list 2: \",end=\"\")\n",
    "for i in l1:\n",
    "    if i not in l2:\n",
    "        print (i,\" \",end=\"\")\n"
   ]
  },
  {
   "cell_type": "markdown",
   "metadata": {},
   "source": [
    "16. create a single string from 2 strings by swapping their first characters"
   ]
  },
  {
   "cell_type": "code",
   "execution_count": 23,
   "metadata": {},
   "outputs": [
    {
     "name": "stdout",
     "output_type": "stream",
     "text": [
      "New String :  wello horld\n"
     ]
    }
   ],
   "source": [
    "words=input(\"Enter 2 words: \").split()\n",
    "s=words[1][0]+words[0][1:]+\" \"+words[0][0]+words[1][1:]\n",
    "print(\"New String : \",s)"
   ]
  },
  {
   "cell_type": "markdown",
   "metadata": {},
   "source": [
    "17. Sort dictionary in ascending and descending order"
   ]
  },
  {
   "cell_type": "code",
   "execution_count": 12,
   "metadata": {},
   "outputs": [
    {
     "name": "stdout",
     "output_type": "stream",
     "text": [
      "Original Dictionry:  {'1': 'a', '4': 'd', '2': 'b', '3': 'c'}\n",
      "Dict in ascending order:  {'1': 'a', '2': 'b', '3': 'c', '4': 'd'}\n",
      "Dict in descending order:  {'4': 'd', '3': 'c', '2': 'b', '1': 'a'}\n"
     ]
    }
   ],
   "source": [
    "keys=input(\"Enter keys: \").split()\n",
    "values=input(\"Enter values: \").split()\n",
    "s = dict(zip(keys,values))\n",
    "keys.sort()\n",
    "ascending_s={i:s[i] for i in keys}\n",
    "keys.reverse()\n",
    "descending_s={i:s[i] for i in keys}\n",
    "print(\"Original Dictionry: \", s)\n",
    "print(\"Dict in ascending order: \", ascending_s)\n",
    "print(\"Dict in descending order: \", descending_s)"
   ]
  },
  {
   "cell_type": "markdown",
   "metadata": {},
   "source": [
    "18. Merge 2 dictionaries"
   ]
  },
  {
   "cell_type": "code",
   "execution_count": 47,
   "metadata": {},
   "outputs": [
    {
     "name": "stdout",
     "output_type": "stream",
     "text": [
      "Dictionary 1:  {'a': 'd', 'b': 'e', 'c': 'f'}\n",
      "Dictionary 2:  {'a': '1', '2': '3'}\n",
      "Merged Dictionary:  {'a': '1', 'b': 'e', 'c': 'f', '2': '3'}\n"
     ]
    }
   ],
   "source": [
    "keys=input(\"Enter keys of dictionary 1: \").split()\n",
    "values=input(\"Enter values of dictionary 1: \").split()\n",
    "s={}\n",
    "j=0\n",
    "for i in keys:\n",
    "    s[i]=values[j]\n",
    "    j+=1\n",
    "print(\"Dictionary 1: \",s)\n",
    "keys1=input(\"Enter keys of dictionary 2: \").split()\n",
    "values1=input(\"Enter values of dictionary 2: \").split()\n",
    "s1={}\n",
    "j=0\n",
    "for i in keys1:\n",
    "    s1[i]=values1[j]\n",
    "    j+=1\n",
    "print(\"Dictionary 2: \",s1)\n",
    "s.update(s1)\n",
    "print(\"Merged Dictionary: \",s)"
   ]
  },
  {
   "cell_type": "markdown",
   "metadata": {},
   "source": [
    "CO2"
   ]
  },
  {
   "cell_type": "markdown",
   "metadata": {},
   "source": [
    "1. Factorial of a number"
   ]
  },
  {
   "cell_type": "code",
   "execution_count": 50,
   "metadata": {},
   "outputs": [
    {
     "name": "stdout",
     "output_type": "stream",
     "text": [
      "Factorial of  5  =  120\n"
     ]
    }
   ],
   "source": [
    "def fact(n):\n",
    "    if(n==0):\n",
    "        return 1\n",
    "    else: \n",
    "        return n*fact(n-1)\n",
    "\n",
    "n=int(input(\"Enter a number: \"))\n",
    "print(\"Factorial of \",n,\" = \",fact(n))"
   ]
  },
  {
   "cell_type": "markdown",
   "metadata": {},
   "source": [
    "2. Fibonacci Series"
   ]
  },
  {
   "cell_type": "code",
   "execution_count": 3,
   "metadata": {},
   "outputs": [
    {
     "name": "stdout",
     "output_type": "stream",
     "text": [
      "Fibonacci Series:\n",
      "0\n",
      "1\n",
      "1\n"
     ]
    }
   ],
   "source": [
    "def fib(a,b,n,i):\n",
    "    if(i>n):\n",
    "        return\n",
    "    else:\n",
    "        c=a+b\n",
    "        print(c)\n",
    "        fib(b,c,n,(i+1))\n",
    "\n",
    "n=int(input(\"Enter Limit: \"))\n",
    "print(\"Fibonacci Series:\")\n",
    "if(n==1):\n",
    "    print(0)\n",
    "else:\n",
    "    print(0)\n",
    "    print(1)\n",
    "    fib(0,1,n-2,1)"
   ]
  },
  {
   "cell_type": "markdown",
   "metadata": {},
   "source": [
    "3. sum of items in a list"
   ]
  },
  {
   "cell_type": "code",
   "execution_count": 59,
   "metadata": {},
   "outputs": [
    {
     "name": "stdout",
     "output_type": "stream",
     "text": [
      "Sum of elements in list:  6\n"
     ]
    }
   ],
   "source": [
    "def list_sum(l):\n",
    "    s=0\n",
    "    for i in l:\n",
    "        s+=int(i) \n",
    "    return s\n",
    "\n",
    "l=input(\"Enter numbers: \").split()\n",
    "print(\"Sum of elements in list: \",list_sum(l))"
   ]
  },
  {
   "cell_type": "markdown",
   "metadata": {},
   "source": [
    "5 Display given pyramid\n",
    "1 \\n\n",
    "2 4 \\n\n",
    "3 6 9"
   ]
  },
  {
   "cell_type": "code",
   "execution_count": 63,
   "metadata": {},
   "outputs": [
    {
     "name": "stdout",
     "output_type": "stream",
     "text": [
      "1 \n",
      "2 4 \n",
      "3 6 9 \n",
      "4 8 12 16 \n"
     ]
    }
   ],
   "source": [
    "n=int(input(\"Enter no:of rows: \"))\n",
    "for i in range(1,n+1):\n",
    "    for j in range(1,i+1):\n",
    "        print((i*j), end=\" \")\n",
    "    print()"
   ]
  },
  {
   "cell_type": "markdown",
   "metadata": {},
   "source": [
    "8. largest word from list"
   ]
  },
  {
   "cell_type": "code",
   "execution_count": 73,
   "metadata": {},
   "outputs": [
    {
     "name": "stdout",
     "output_type": "stream",
     "text": [
      "The word  helllo  has largest length of  6\n"
     ]
    }
   ],
   "source": [
    "def largest(l):\n",
    "    s=''\n",
    "    len1=0\n",
    "    for i in l:\n",
    "        if(len(i)>len1):\n",
    "            len1=len(i)\n",
    "            s=i\n",
    "    return s,len1\n",
    "\n",
    "l=input(\"Enter a sentence: \").split()\n",
    "r=largest(l)\n",
    "print(\"The word \",r[0],\" has largest length of \",r[1])"
   ]
  },
  {
   "cell_type": "markdown",
   "metadata": {},
   "source": [
    "10 Generate all factors of a numbers"
   ]
  },
  {
   "cell_type": "code",
   "execution_count": 81,
   "metadata": {},
   "outputs": [
    {
     "name": "stdout",
     "output_type": "stream",
     "text": [
      "Factors of  10 : \n",
      "1 2 5 10 "
     ]
    }
   ],
   "source": [
    "def factor(n):\n",
    "    for i in range(1,n+1):\n",
    "        if(n%i==0):\n",
    "            print(i, end=\" \")\n",
    "\n",
    "n=int(input(\"Enter a number: \"))\n",
    "print(\"Factors of \",n,\": \")\n",
    "factor(n)"
   ]
  },
  {
   "cell_type": "markdown",
   "metadata": {},
   "source": []
  }
 ],
 "metadata": {
  "kernelspec": {
   "display_name": "base",
   "language": "python",
   "name": "python3"
  },
  "language_info": {
   "codemirror_mode": {
    "name": "ipython",
    "version": 3
   },
   "file_extension": ".py",
   "mimetype": "text/x-python",
   "name": "python",
   "nbconvert_exporter": "python",
   "pygments_lexer": "ipython3",
   "version": "3.8.8"
  }
 },
 "nbformat": 4,
 "nbformat_minor": 2
}
