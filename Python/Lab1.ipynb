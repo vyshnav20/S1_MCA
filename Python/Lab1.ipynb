{
 "cells": [
  {
   "cell_type": "markdown",
   "metadata": {},
   "source": [
    "1. Area and Perimeter of circle"
   ]
  },
  {
   "cell_type": "code",
   "execution_count": 3,
   "metadata": {},
   "outputs": [
    {
     "name": "stdout",
     "output_type": "stream",
     "text": [
      "Area of circle with radius  2  = 12.56\n",
      "Perimeter of circle with radius  2  = 12.56\n"
     ]
    }
   ],
   "source": [
    "radius = int(input(\"Enter radius of circle: \"))\n",
    "area = (3.14)*radius*radius\n",
    "perimeter = 2*3.14*radius\n",
    "print(\"Area of circle with radius \", radius, \" = %.2f\" % area)\n",
    "print(\"Perimeter of circle with radius \", radius, \" = %.2f\" % perimeter)"
   ]
  },
  {
   "cell_type": "markdown",
   "metadata": {},
   "source": [
    "2. Swap 2 nos"
   ]
  },
  {
   "cell_type": "code",
   "execution_count": 34,
   "metadata": {},
   "outputs": [
    {
     "name": "stdout",
     "output_type": "stream",
     "text": [
      "\t\t Before Swapping\n",
      "First number:  4 \n",
      "Second Number:  2\n",
      "\t\t After Swapping\n",
      "First number:  2 \n",
      "Second Number:  4\n"
     ]
    }
   ],
   "source": [
    "a, b = map(int, input(\"Enter 2 numbers: \").split())\n",
    "print(\"\\t\\t Before Swapping\\nFirst number: \", a, \"\\nSecond Number: \", b)\n",
    "a = a+b\n",
    "b = a-b\n",
    "a = a-b\n",
    "print(\"\\t\\t After Swapping\\nFirst number: \", a, \"\\nSecond Number: \", b)"
   ]
  },
  {
   "cell_type": "markdown",
   "metadata": {},
   "source": [
    "3. Largest of 3 numbers"
   ]
  },
  {
   "cell_type": "code",
   "execution_count": 10,
   "metadata": {},
   "outputs": [
    {
     "name": "stdout",
     "output_type": "stream",
     "text": [
      "2  is the greatest number\n"
     ]
    }
   ],
   "source": [
    "a, b, c = map(int, input(\"Enter 3 numbers: \").split())\n",
    "if(a > b and a > c):\n",
    "    print(a, \" is the greatest.\")\n",
    "elif(b > c):\n",
    "    print(b, \" is the greatest.\")\n",
    "elif(c != a or c != b):\n",
    "    print(c, \" is the greatest.\")\n",
    "else:\n",
    "    print(\"Three numbers are the same\")\n"
   ]
  },
  {
   "cell_type": "markdown",
   "metadata": {},
   "source": [
    "4. Arithmetic operatrons"
   ]
  },
  {
   "cell_type": "code",
   "execution_count": 33,
   "metadata": {},
   "outputs": [
    {
     "name": "stdout",
     "output_type": "stream",
     "text": [
      "Quotient=  2.5\n"
     ]
    }
   ],
   "source": [
    "a= input(\"Enter expression: \")\n",
    "if ('+' in a):\n",
    "    i=a.index('+')\n",
    "    print (\"Sum= \",int(a[0:i])+int(a[i+1:]))\n",
    "if ('-' in a):\n",
    "    i=a.index('-')\n",
    "    print (\"Difference= \",int(a[0:i])-int(a[i+1:]))\n",
    "if ('*' in a):\n",
    "    i=a.index('*')\n",
    "    print (\"Product= \",int(a[0:i])*int(a[i+1:]))\n",
    "if ('/' in a):\n",
    "    i=a.index('/')\n",
    "    print (\"Quotient.Remainder= \",float(a[0:i])/float(a[i+1:]))\n"
   ]
  },
  {
   "cell_type": "markdown",
   "metadata": {},
   "source": [
    "5. First n multiples of a number"
   ]
  },
  {
   "cell_type": "code",
   "execution_count": 33,
   "metadata": {},
   "outputs": [
    {
     "name": "stdout",
     "output_type": "stream",
     "text": [
      "4\n",
      "8\n",
      "12\n",
      "16\n",
      "20\n"
     ]
    }
   ],
   "source": [
    "num=int(input(\"Enter a number: \"))\n",
    "n=int(input(\"Enter number of multiples to be calculated: \"))\n",
    "for i in range(1,n+1):\n",
    "    print(i*num)"
   ]
  },
  {
   "cell_type": "markdown",
   "metadata": {},
   "source": [
    "6. Sum of first 100 even numbers"
   ]
  },
  {
   "cell_type": "code",
   "execution_count": 34,
   "metadata": {},
   "outputs": [
    {
     "name": "stdout",
     "output_type": "stream",
     "text": [
      "Sum of first 100 even numbers=  10100\n"
     ]
    }
   ],
   "source": [
    "sum=0\n",
    "for i in range(2,201,2):\n",
    "    sum=sum+i\n",
    "print(\"Sum of first 100 even numbers= \",sum)"
   ]
  },
  {
   "cell_type": "markdown",
   "metadata": {},
   "source": [
    "7. Factorial of a number"
   ]
  },
  {
   "cell_type": "code",
   "execution_count": 43,
   "metadata": {},
   "outputs": [
    {
     "name": "stdout",
     "output_type": "stream",
     "text": [
      "Factorial of  4  =  24\n"
     ]
    }
   ],
   "source": [
    "num=int(input(\"Enter a number: \"))\n",
    "fact=1\n",
    "for i in range(1,num+1):\n",
    "    fact*=i\n",
    "print(\"Factorial of \",num,\" = \",fact)"
   ]
  },
  {
   "cell_type": "markdown",
   "metadata": {},
   "source": [
    "8. Count total number of digits in a number"
   ]
  },
  {
   "cell_type": "code",
   "execution_count": 46,
   "metadata": {},
   "outputs": [
    {
     "name": "stdout",
     "output_type": "stream",
     "text": [
      "123 has   3  digits.\n"
     ]
    }
   ],
   "source": [
    "num=int(input(\"Enter a number: \"))\n",
    "c=0\n",
    "n=num\n",
    "while(num>0):\n",
    "    c+=1\n",
    "    num=num//10\n",
    "print(n,\"has \",c,\" digits.\")"
   ]
  },
  {
   "cell_type": "markdown",
   "metadata": {},
   "source": [
    "9. No:of words in a sentence"
   ]
  },
  {
   "cell_type": "code",
   "execution_count": 48,
   "metadata": {},
   "outputs": [
    {
     "name": "stdout",
     "output_type": "stream",
     "text": [
      "No:of words in the sentence =  2\n"
     ]
    }
   ],
   "source": [
    "s=input(\"Enter a sentence: \").split()\n",
    "print(\"No:of words in the sentence = \",len(s))"
   ]
  },
  {
   "cell_type": "markdown",
   "metadata": {},
   "source": [
    "Print List"
   ]
  },
  {
   "cell_type": "code",
   "execution_count": 1,
   "metadata": {},
   "outputs": [
    {
     "name": "stdout",
     "output_type": "stream",
     "text": [
      "List:\n",
      "['4', 'r', 'q', '2', '4']\n"
     ]
    }
   ],
   "source": [
    "a=input(\"Enter 5 values: \").split()\n",
    "print(\"List:\")\n",
    "print(a)"
   ]
  },
  {
   "cell_type": "markdown",
   "metadata": {},
   "source": [
    "List of same length"
   ]
  },
  {
   "cell_type": "code",
   "execution_count": 12,
   "metadata": {},
   "outputs": [
    {
     "name": "stdout",
     "output_type": "stream",
     "text": [
      "2 list are of same size:  3\n"
     ]
    }
   ],
   "source": [
    "a=input(\"Enter values for list 1: \").split()\n",
    "b=input(\"Enter values for list 1: \").split()\n",
    "if(len(a)==len(b)):\n",
    "    print(\"2 list are of same size: \",len(a))\n",
    "else:\n",
    "    print(\"Length of first list = \",len(a),\"\\nLenght of second list = \", len(b))"
   ]
  },
  {
   "cell_type": "markdown",
   "metadata": {},
   "source": [
    "List with same values"
   ]
  },
  {
   "cell_type": "code",
   "execution_count": 9,
   "metadata": {},
   "outputs": [
    {
     "name": "stdout",
     "output_type": "stream",
     "text": [
      "Both list are same:  ['1', '2', '3']\n"
     ]
    }
   ],
   "source": [
    "a=input(\"Enter values for list 1: \").split()\n",
    "b=input(\"Enter values for list 1: \").split()\n",
    "if(a==b):\n",
    "    print(\"Both list are same: \",a)\n",
    "else:\n",
    "    print(\"2 List are different\\nFirst list = \",a,\"\\nSecond list = \", b)"
   ]
  },
  {
   "cell_type": "markdown",
   "metadata": {},
   "source": [
    "Common values in both list"
   ]
  },
  {
   "cell_type": "code",
   "execution_count": 15,
   "metadata": {},
   "outputs": [
    {
     "name": "stdout",
     "output_type": "stream",
     "text": [
      "Common elements:  ['1', '3']\n"
     ]
    }
   ],
   "source": [
    "a=input(\"Enter values for list 1: \").split()\n",
    "b=input(\"Enter values for list 1: \").split()\n",
    "c=[]\n",
    "for i in a:\n",
    "    for j in b:\n",
    "        if(i==j):\n",
    "            c.append(i)\n",
    "print(\"Common elements: \",c)"
   ]
  },
  {
   "cell_type": "markdown",
   "metadata": {},
   "source": [
    "Generate +ve list of numbers from given list (list comprehension)"
   ]
  },
  {
   "cell_type": "code",
   "execution_count": 19,
   "metadata": {},
   "outputs": [
    {
     "name": "stdout",
     "output_type": "stream",
     "text": [
      "List with +ve values:  [1, 3]\n"
     ]
    }
   ],
   "source": [
    "a=map(int,input(\"Enter values for list: \").split())\n",
    "c=[i for i in a if i>0]\n",
    "print(\"List with +ve values: \",c)"
   ]
  },
  {
   "cell_type": "markdown",
   "metadata": {},
   "source": [
    "Generate squares of numbers from given list (list comprehension)"
   ]
  },
  {
   "cell_type": "code",
   "execution_count": 21,
   "metadata": {},
   "outputs": [
    {
     "name": "stdout",
     "output_type": "stream",
     "text": [
      "Squares of values in the list:  [4, 16, 25]\n"
     ]
    }
   ],
   "source": [
    "a=map(int,input(\"Enter values for list: \").split())\n",
    "c=[i*i for i in a]\n",
    "print(\"Squares of values in the list: \",c)"
   ]
  },
  {
   "cell_type": "markdown",
   "metadata": {},
   "source": [
    "Generate squares of numbers from given list (list comprehension)"
   ]
  },
  {
   "cell_type": "code",
   "execution_count": 26,
   "metadata": {},
   "outputs": [
    {
     "name": "stdout",
     "output_type": "stream",
     "text": [
      "Vowels in  aeiubf are  ['a', 'e', 'i', 'u']\n"
     ]
    }
   ],
   "source": [
    "a=input(\"Enter values for list: \")\n",
    "b=[x.lower() for  x in a]\n",
    "vowels=['a','e','i','o','u']\n",
    "c=[i for i in b if i in vowels]\n",
    "print(\"Vowels in \",a,\"are \",c)"
   ]
  },
  {
   "cell_type": "markdown",
   "metadata": {},
   "source": [
    "Count occurence of each word in a list of text"
   ]
  },
  {
   "cell_type": "code",
   "execution_count": 3,
   "metadata": {},
   "outputs": [
    {
     "name": "stdout",
     "output_type": "stream",
     "text": [
      "Word\t No: occurence\n",
      "hi \t 1\n",
      "guys \t 1\n"
     ]
    }
   ],
   "source": [
    "a=input(\"Enter values for list: \").split()\n",
    "c={}\n",
    "for i in a:\n",
    "    if i in c:\n",
    "        c[i]+=1\n",
    "    else:\n",
    "        c[i]=1\n",
    "print(\"Word\\t No: occurence\")\n",
    "for i in c:\n",
    "    print(i,\"\\t\",c[i])"
   ]
  },
  {
   "cell_type": "markdown",
   "metadata": {},
   "source": [
    "for a list if values>100 stor over"
   ]
  },
  {
   "cell_type": "code",
   "execution_count": 11,
   "metadata": {},
   "outputs": [
    {
     "data": {
      "text/plain": [
       "['1', 'over', '1']"
      ]
     },
     "execution_count": 11,
     "metadata": {},
     "output_type": "execute_result"
    }
   ],
   "source": [
    "a=input(\"Enter values for list: \").split()\n",
    "for i in range(0,len(a)):\n",
    "    if int(a[i])>100:\n",
    "        a[i]=\"over\"\n",
    "a"
   ]
  },
  {
   "cell_type": "code",
   "execution_count": null,
   "metadata": {},
   "outputs": [],
   "source": []
  },
  {
   "cell_type": "code",
   "execution_count": null,
   "metadata": {},
   "outputs": [],
   "source": []
  }
 ],
 "metadata": {
  "kernelspec": {
   "display_name": "base",
   "language": "python",
   "name": "python3"
  },
  "language_info": {
   "codemirror_mode": {
    "name": "ipython",
    "version": 3
   },
   "file_extension": ".py",
   "mimetype": "text/x-python",
   "name": "python",
   "nbconvert_exporter": "python",
   "pygments_lexer": "ipython3",
   "version": "3.9.13"
  }
 },
 "nbformat": 4,
 "nbformat_minor": 2
}
