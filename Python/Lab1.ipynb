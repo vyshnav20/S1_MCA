{
 "cells": [
  {
   "cell_type": "markdown",
   "metadata": {},
   "source": [
    "Area and Perimeter of circle"
   ]
  },
  {
   "cell_type": "code",
   "execution_count": 3,
   "metadata": {},
   "outputs": [
    {
     "name": "stdout",
     "output_type": "stream",
     "text": [
      "Area of circle with radius  2  = 12.56\n",
      "Perimeter of circle with radius  2  = 12.56\n"
     ]
    }
   ],
   "source": [
    "radius = int(input(\"Enter radius of circle: \"))\n",
    "area = (3.14)*radius*radius\n",
    "perimeter = 2*3.14*radius\n",
    "print(\"Area of circle with radius \", radius, \" = %.2f\" % area)\n",
    "print(\"Perimeter of circle with radius \", radius, \" = %.2f\" % perimeter)"
   ]
  },
  {
   "cell_type": "markdown",
   "metadata": {},
   "source": [
    "Swap 2 nos"
   ]
  },
  {
   "cell_type": "code",
   "execution_count": 4,
   "metadata": {},
   "outputs": [
    {
     "name": "stdout",
     "output_type": "stream",
     "text": [
      "\t\t Before Swapping\n",
      "First number:  2 \n",
      "Second Number:  3\n",
      "\t\t After Swapping\n",
      "First number:  3 \n",
      "Second Number:  2\n"
     ]
    }
   ],
   "source": [
    "a, b = map(int, input(\"Enter 2 numbers: \").split())\n",
    "print(\"\\t\\t Before Swapping\\nFirst number: \", a, \"\\nSecond Number: \", b)\n",
    "a = a+b\n",
    "b = a-b\n",
    "a = a-b\n",
    "print(\"\\t\\t After Swapping\\nFirst number: \", a, \"\\nSecond Number: \", b)"
   ]
  },
  {
   "cell_type": "markdown",
   "metadata": {},
   "source": [
    "Largest of 3 numbers"
   ]
  },
  {
   "cell_type": "code",
   "execution_count": 10,
   "metadata": {},
   "outputs": [
    {
     "name": "stdout",
     "output_type": "stream",
     "text": [
      "2  is the greatest number\n"
     ]
    }
   ],
   "source": [
    "a, b, c = map(int, input(\"Enter 3 numbers: \").split())\n",
    "if(a > b and a > c):\n",
    "    print(a, \" is the greatest.\")\n",
    "elif(b > c):\n",
    "    print(b, \" is the greatest.\")\n",
    "elif(c != a or c != b):\n",
    "    print(c, \" is the greatest.\")\n",
    "else:\n",
    "    print(\"Three numbers are the same\")\n"
   ]
  },
  {
   "cell_type": "markdown",
   "metadata": {},
   "source": [
    "Arithmetic operatrons"
   ]
  },
  {
   "cell_type": "code",
   "execution_count": 33,
   "metadata": {},
   "outputs": [
    {
     "name": "stdout",
     "output_type": "stream",
     "text": [
      "Quotient=  2.5\n"
     ]
    }
   ],
   "source": [
    "a= input(\"Enter expression: \")\n",
    "if ('+' in a):\n",
    "    i=a.index('+')\n",
    "    print (\"Sum= \",int(a[0:i])+int(a[i+1:]))\n",
    "if ('-' in a):\n",
    "    i=a.index('-')\n",
    "    print (\"Difference= \",int(a[0:i])-int(a[i+1:]))\n",
    "if ('*' in a):\n",
    "    i=a.index('*')\n",
    "    print (\"Product= \",int(a[0:i])*int(a[i+1:]))\n",
    "if ('/' in a):\n",
    "    i=a.index('/')\n",
    "    print (\"Quotient.Remainder= \",float(a[0:i])/float(a[i+1:]))\n"
   ]
  },
  {
   "cell_type": "markdown",
   "metadata": {},
   "source": [
    "First n multiples of a number"
   ]
  },
  {
   "cell_type": "code",
   "execution_count": 50,
   "metadata": {},
   "outputs": [
    {
     "name": "stdout",
     "output_type": "stream",
     "text": [
      "4\n",
      "8\n",
      "12\n",
      "16\n",
      "20\n"
     ]
    }
   ],
   "source": [
    "num=int(input(\"Enter a number: \"))\n",
    "n=int(input(\"Enter number of multiples to be calculated: \"))\n",
    "for i in range(1,n+1):\n",
    "    print(i*num)"
   ]
  },
  {
   "cell_type": "markdown",
   "metadata": {},
   "source": [
    "Sum of first 100 even numbers"
   ]
  },
  {
   "cell_type": "code",
   "execution_count": 34,
   "metadata": {},
   "outputs": [
    {
     "name": "stdout",
     "output_type": "stream",
     "text": [
      "Sum of first 100 even numbers=  10100\n"
     ]
    }
   ],
   "source": [
    "sum=0\n",
    "for i in range(2,201,2):\n",
    "    sum=sum+i\n",
    "print(\"Sum of first 100 even numbers= \",sum)"
   ]
  },
  {
   "cell_type": "markdown",
   "metadata": {},
   "source": [
    "Factorial of a number"
   ]
  },
  {
   "cell_type": "code",
   "execution_count": 43,
   "metadata": {},
   "outputs": [
    {
     "name": "stdout",
     "output_type": "stream",
     "text": [
      "Factorial of  4  =  24\n"
     ]
    }
   ],
   "source": [
    "num=int(input(\"Enter a number: \"))\n",
    "fact=1\n",
    "for i in range(1,num+1):\n",
    "    fact*=i\n",
    "print(\"Factorial of \",num,\" = \",fact)"
   ]
  },
  {
   "cell_type": "markdown",
   "metadata": {},
   "source": [
    "Count total number of digits in a number"
   ]
  },
  {
   "cell_type": "code",
   "execution_count": 46,
   "metadata": {},
   "outputs": [
    {
     "name": "stdout",
     "output_type": "stream",
     "text": [
      "123 has   3  digits.\n"
     ]
    }
   ],
   "source": [
    "num=int(input(\"Enter a number: \"))\n",
    "c=0\n",
    "n=num\n",
    "while(num>0):\n",
    "    c+=1\n",
    "    num=num//10\n",
    "print(n,\"has \",c,\" digits.\")"
   ]
  },
  {
   "cell_type": "markdown",
   "metadata": {},
   "source": [
    "No:of words in a sentence"
   ]
  },
  {
   "cell_type": "code",
   "execution_count": 48,
   "metadata": {},
   "outputs": [
    {
     "name": "stdout",
     "output_type": "stream",
     "text": [
      "No:of words in the sentence =  2\n"
     ]
    }
   ],
   "source": [
    "s=input(\"Enter a sentence: \").split()\n",
    "print(\"No:of words in the sentence = \",len(s))"
   ]
  }
 ],
 "metadata": {
  "kernelspec": {
   "display_name": "base",
   "language": "python",
   "name": "python3"
  },
  "language_info": {
   "codemirror_mode": {
    "name": "ipython",
    "version": 3
   },
   "file_extension": ".py",
   "mimetype": "text/x-python",
   "name": "python",
   "nbconvert_exporter": "python",
   "pygments_lexer": "ipython3",
   "version": "3.9.13"
  }
 },
 "nbformat": 4,
 "nbformat_minor": 2
}
