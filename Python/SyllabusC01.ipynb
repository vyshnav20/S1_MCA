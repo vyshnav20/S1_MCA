{
 "cells": [
  {
   "cell_type": "markdown",
   "metadata": {},
   "source": [
    "6. Occurence of 'a' in a list"
   ]
  },
  {
   "cell_type": "code",
   "execution_count": 3,
   "metadata": {},
   "outputs": [
    {
     "name": "stdout",
     "output_type": "stream",
     "text": [
      "The alphabet 'a' occurs  3  times.\n"
     ]
    }
   ],
   "source": [
    "char=input(\"Enter a letters to a list: \").split()\n",
    "print(\"The alphabet 'a' occurs \",(char.count('a')+char.count('A')),\" times.\")"
   ]
  },
  {
   "cell_type": "markdown",
   "metadata": {},
   "source": [
    "7. Check if 2 list have same sums"
   ]
  },
  {
   "cell_type": "code",
   "execution_count": 6,
   "metadata": {},
   "outputs": [
    {
     "name": "stdout",
     "output_type": "stream",
     "text": [
      "Sum of 2 list are same:  10\n"
     ]
    }
   ],
   "source": [
    "a = list(map(int,input(\"\\nEnter values for list 1: \").strip().split()))\n",
    "b = list(map(int,input(\"\\nEnter values for list 2: \").strip().split()))\n",
    "if(sum(a)==sum(b)):\n",
    "    print(\"Sum of 2 list are same: \",sum(a))\n",
    "else:\n",
    "    print(\"Sum of first list = \",sum(a),\"\\nSum of second list = \", sum(b))"
   ]
  },
  {
   "cell_type": "markdown",
   "metadata": {},
   "source": [
    "8. replace first character of string with $ except the first letter"
   ]
  },
  {
   "cell_type": "code",
   "execution_count": 12,
   "metadata": {},
   "outputs": [
    {
     "name": "stdout",
     "output_type": "stream",
     "text": [
      "The first charater ' a ' is replaced with '$' for all other occurence.\n",
      " New word:  ahu$j \n"
     ]
    }
   ],
   "source": [
    "s=input(\"Enter a word: \")\n",
    "s1=s[0]\n",
    "for i in range(1,len(s)):\n",
    "    if s[i]==s[0]:\n",
    "        s1+='$'\n",
    "    else:\n",
    "        s1+=s[i]\n",
    "print(\"The first charater '\",s[0],\"' is replaced with '$' for all other occurence.\\nNew word: \",s1)"
   ]
  },
  {
   "cell_type": "markdown",
   "metadata": {},
   "source": [
    "9. swap first and last character of a string"
   ]
  },
  {
   "cell_type": "code",
   "execution_count": 14,
   "metadata": {},
   "outputs": [
    {
     "name": "stdout",
     "output_type": "stream",
     "text": [
      "New word after replacing first and last letters:  oellh\n"
     ]
    }
   ],
   "source": [
    "s=input(\"Enter a word: \")\n",
    "s1=s[-1]+s[1:-1]+s[0]\n",
    "print(\"New word after replacing first and last letters: \",s1)"
   ]
  },
  {
   "cell_type": "markdown",
   "metadata": {},
   "source": [
    "12. print file extension of a file"
   ]
  },
  {
   "cell_type": "code",
   "execution_count": 17,
   "metadata": {},
   "outputs": [
    {
     "name": "stdout",
     "output_type": "stream",
     "text": [
      "File Extension:  .txt\n"
     ]
    }
   ],
   "source": [
    "f=input(\"Enter file name: \")\n",
    "print(\"File Extension: \",f[f.rfind('.'):])"
   ]
  },
  {
   "cell_type": "markdown",
   "metadata": {},
   "source": [
    "13. Input colours as comma-seperated and display first and last"
   ]
  },
  {
   "cell_type": "code",
   "execution_count": 25,
   "metadata": {},
   "outputs": [
    {
     "name": "stdout",
     "output_type": "stream",
     "text": [
      "First and last color:  red\n"
     ]
    }
   ],
   "source": [
    "colors=input(\"Enter colours: \").split(',')\n",
    "if (len(colors)>1):\n",
    "    print(\"First color: \",colors[0])\n",
    "    print(\"Last color: \",colors[-1])\n",
    "else:\n",
    "    print(\"First and last color: \",colors[0])\n"
   ]
  },
  {
   "cell_type": "markdown",
   "metadata": {},
   "source": [
    "14. compute n+nn+nnn"
   ]
  },
  {
   "cell_type": "code",
   "execution_count": 26,
   "metadata": {},
   "outputs": [
    {
     "ename": "TypeError",
     "evalue": "can only concatenate str (not \"int\") to str",
     "output_type": "error",
     "traceback": [
      "\u001b[0;31m---------------------------------------------------------------------------\u001b[0m",
      "\u001b[0;31mTypeError\u001b[0m                                 Traceback (most recent call last)",
      "\u001b[0;32m<ipython-input-26-902840374478>\u001b[0m in \u001b[0;36m<module>\u001b[0;34m\u001b[0m\n\u001b[1;32m      2\u001b[0m \u001b[0ml\u001b[0m\u001b[0;34m=\u001b[0m\u001b[0minput\u001b[0m\u001b[0;34m(\u001b[0m\u001b[0;34m\"Enter limit: \"\u001b[0m\u001b[0;34m)\u001b[0m\u001b[0;34m\u001b[0m\u001b[0;34m\u001b[0m\u001b[0m\n\u001b[1;32m      3\u001b[0m \u001b[0msum\u001b[0m\u001b[0;34m=\u001b[0m\u001b[0;36m0\u001b[0m\u001b[0;34m\u001b[0m\u001b[0;34m\u001b[0m\u001b[0m\n\u001b[0;32m----> 4\u001b[0;31m \u001b[0;32mfor\u001b[0m \u001b[0mi\u001b[0m \u001b[0;32min\u001b[0m \u001b[0mrange\u001b[0m\u001b[0;34m(\u001b[0m\u001b[0;36m1\u001b[0m\u001b[0;34m,\u001b[0m\u001b[0ml\u001b[0m\u001b[0;34m+\u001b[0m\u001b[0;36m1\u001b[0m\u001b[0;34m)\u001b[0m\u001b[0;34m:\u001b[0m\u001b[0;34m\u001b[0m\u001b[0;34m\u001b[0m\u001b[0m\n\u001b[0m\u001b[1;32m      5\u001b[0m     \u001b[0msum\u001b[0m\u001b[0;34m+=\u001b[0m\u001b[0;34m(\u001b[0m\u001b[0mn\u001b[0m\u001b[0;34m**\u001b[0m\u001b[0mi\u001b[0m\u001b[0;34m)\u001b[0m\u001b[0;34m\u001b[0m\u001b[0;34m\u001b[0m\u001b[0m\n",
      "\u001b[0;31mTypeError\u001b[0m: can only concatenate str (not \"int\") to str"
     ]
    }
   ],
   "source": [
    "n=input(\"Enter value for n: \")\n",
    "l=input(\"Enter limit: \")\n",
    "sum=0\n",
    "for i in range(1,l+1):\n",
    "    sum+=(n**i)"
   ]
  },
  {
   "cell_type": "markdown",
   "metadata": {},
   "source": []
  }
 ],
 "metadata": {
  "kernelspec": {
   "display_name": "base",
   "language": "python",
   "name": "python3"
  },
  "language_info": {
   "codemirror_mode": {
    "name": "ipython",
    "version": 3
   },
   "file_extension": ".py",
   "mimetype": "text/x-python",
   "name": "python",
   "nbconvert_exporter": "python",
   "pygments_lexer": "ipython3",
   "version": "3.8.8"
  }
 },
 "nbformat": 4,
 "nbformat_minor": 2
}
